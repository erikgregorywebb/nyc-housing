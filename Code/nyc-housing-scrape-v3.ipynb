{
 "cells": [
  {
   "cell_type": "code",
   "execution_count": 1,
   "metadata": {
    "collapsed": true
   },
   "outputs": [],
   "source": [
    "# Import Libraries\n",
    "import requests\n",
    "from requests.adapters import HTTPAdapter\n",
    "from requests.packages.urllib3.util.retry import Retry\n",
    "from bs4 import BeautifulSoup\n",
    "import  pandas as pd\n",
    "import matplotlib.pyplot as plt\n",
    "import numpy as np\n",
    "import string\n",
    "import time\n",
    "import re\n",
    "import os\n",
    "from functools import reduce\n",
    "trim = re.compile(r'[^\\d.,]+')\n",
    "\n",
    "# http://www.zipcodestogo.com/New%20York/\n",
    "# http://www.zipcodestogo.com/New%20Jersey/"
   ]
  },
  {
   "cell_type": "markdown",
   "metadata": {},
   "source": [
    "### Read in NYC Zip Codes\n",
    "Source: https://www.health.ny.gov/statistics/cancer/registry/appendix/neighborhoods.htm"
   ]
  },
  {
   "cell_type": "code",
   "execution_count": 2,
   "metadata": {},
   "outputs": [
    {
     "data": {
      "text/html": [
       "<div>\n",
       "<table border=\"1\" class=\"dataframe\">\n",
       "  <thead>\n",
       "    <tr style=\"text-align: right;\">\n",
       "      <th></th>\n",
       "      <th>Borough</th>\n",
       "      <th>Neighborhood</th>\n",
       "      <th>ZipCode</th>\n",
       "    </tr>\n",
       "  </thead>\n",
       "  <tbody>\n",
       "    <tr>\n",
       "      <th>0</th>\n",
       "      <td>Bronx</td>\n",
       "      <td>Central Bronx</td>\n",
       "      <td>10453</td>\n",
       "    </tr>\n",
       "    <tr>\n",
       "      <th>1</th>\n",
       "      <td>Bronx</td>\n",
       "      <td>Central Bronx</td>\n",
       "      <td>10457</td>\n",
       "    </tr>\n",
       "    <tr>\n",
       "      <th>2</th>\n",
       "      <td>Bronx</td>\n",
       "      <td>Central Bronx</td>\n",
       "      <td>10460</td>\n",
       "    </tr>\n",
       "    <tr>\n",
       "      <th>3</th>\n",
       "      <td>Bronx</td>\n",
       "      <td>Bronx Park and Fordham</td>\n",
       "      <td>10458</td>\n",
       "    </tr>\n",
       "    <tr>\n",
       "      <th>4</th>\n",
       "      <td>Bronx</td>\n",
       "      <td>Bronx Park and Fordham</td>\n",
       "      <td>10467</td>\n",
       "    </tr>\n",
       "  </tbody>\n",
       "</table>\n",
       "</div>"
      ],
      "text/plain": [
       "  Borough            Neighborhood  ZipCode\n",
       "0   Bronx           Central Bronx    10453\n",
       "1   Bronx           Central Bronx    10457\n",
       "2   Bronx           Central Bronx    10460\n",
       "3   Bronx  Bronx Park and Fordham    10458\n",
       "4   Bronx  Bronx Park and Fordham    10467"
      ]
     },
     "execution_count": 2,
     "metadata": {},
     "output_type": "execute_result"
    }
   ],
   "source": [
    "cwd = os.getcwd()\n",
    "zipcodes = pd.read_csv(cwd + \"/nyc-zip-codes.csv\")\n",
    "zipcodes.head()"
   ]
  },
  {
   "cell_type": "markdown",
   "metadata": {},
   "source": [
    "### Generate Craigslist Links"
   ]
  },
  {
   "cell_type": "code",
   "execution_count": 3,
   "metadata": {
    "collapsed": true
   },
   "outputs": [],
   "source": [
    "base_links = []\n",
    "for i in range(0, len(zipcodes)):\n",
    "    link = \"https://newyork.craigslist.org/search/aap?postal={}\".format(zipcodes.iloc[i,2])\n",
    "    base_links.append(link)"
   ]
  },
  {
   "cell_type": "code",
   "execution_count": 4,
   "metadata": {},
   "outputs": [
    {
     "data": {
      "text/plain": [
       "['https://newyork.craigslist.org/search/aap?postal=10453',\n",
       " 'https://newyork.craigslist.org/search/aap?postal=10457',\n",
       " 'https://newyork.craigslist.org/search/aap?postal=10460',\n",
       " 'https://newyork.craigslist.org/search/aap?postal=10458',\n",
       " 'https://newyork.craigslist.org/search/aap?postal=10467']"
      ]
     },
     "execution_count": 4,
     "metadata": {},
     "output_type": "execute_result"
    }
   ],
   "source": [
    "base_links[0:5]"
   ]
  },
  {
   "cell_type": "markdown",
   "metadata": {},
   "source": [
    "### Collect Listings Data"
   ]
  },
  {
   "cell_type": "code",
   "execution_count": 5,
   "metadata": {},
   "outputs": [
    {
     "name": "stdout",
     "output_type": "stream",
     "text": [
      "--- Expected Run Time: 534econds ---\n",
      "--- 623.296999931 seconds ---\n",
      "--- 89.2969999313 seconds NOT sleeping ---\n"
     ]
    }
   ],
   "source": [
    "start_time = time.time()\n",
    "sleep_time = 3\n",
    "\n",
    "housing = pd.DataFrame()\n",
    "length = len(base_links)\n",
    "#length = 5\n",
    "\n",
    "print(\"--- Expected Run Time: %  seconds ---\" % (length*sleep_time))\n",
    "\n",
    "for i in range(0, length):\n",
    "    \n",
    "    time.sleep(sleep_time)\n",
    "    s = requests.Session()\n",
    "    retries = Retry(total=3, backoff_factor=0.5)\n",
    "    s.mount('http://', HTTPAdapter(max_retries=retries))\n",
    "    r = s.get(base_links[i])\n",
    "    page = BeautifulSoup(r.content, \"lxml\")\n",
    "    \n",
    "    dates = []\n",
    "    prices = []\n",
    "    bedrooms = []\n",
    "    titles = []\n",
    "    locations = []\n",
    "    links = []\n",
    "\n",
    "    rows = page.findAll('li', {'class': 'result-row'})\n",
    "\n",
    "    for row in rows:\n",
    "        # Date\n",
    "        try: date = row.find('time', {'class': 'result-date'})['datetime']\n",
    "        except: date = None\n",
    "        \n",
    "        # Price\n",
    "        try: price = row.find('span', {'class': 'result-price'}).text\n",
    "        except: price = None\n",
    "            \n",
    "        # Bedroom\n",
    "        try: bedroom = row.find('span', {'class': 'housing'}).text\n",
    "        except: bedroom = None\n",
    "        \n",
    "        # Title\n",
    "        try: title = row.find('a', {'class': 'result-title hdrlnk'}).text\n",
    "        except: title = None\n",
    "        \n",
    "        # Location\n",
    "        try: location = row.find('span', {'class': 'result-hood'}).text\n",
    "        except: location = None\n",
    "        \n",
    "        # Link\n",
    "        try: link = row.find('a', href = True)['href']\n",
    "        except: link = None\n",
    "        \n",
    "        dates.append(date)\n",
    "        prices.append(price)\n",
    "        bedrooms.append(bedroom)\n",
    "        titles.append(title)\n",
    "        locations.append(location)\n",
    "        links.append(link)\n",
    "        \n",
    "    borough = [zipcodes.iloc[i,0]] * len(dates)\n",
    "    neighborhood = [zipcodes.iloc[i,1]] * len(dates)\n",
    "    zipcode = [zipcodes.iloc[i,2]] * len(dates)\n",
    "        \n",
    "    temp = pd.DataFrame(list(zip(borough, neighborhood, zipcode, dates, prices, bedrooms, titles, locations, links)))\n",
    "    housing = pd.concat([housing, temp])\n",
    "\n",
    "print(\"--- %s seconds ---\" % (time.time() - start_time))\n",
    "print(\"--- %s seconds NOT sleeping ---\" % (time.time() - start_time - (sleep_time * length)))"
   ]
  },
  {
   "cell_type": "code",
   "execution_count": 6,
   "metadata": {},
   "outputs": [],
   "source": [
    "# Clean the data\n",
    "housing.columns = [\"Borough\", \"Neighborhood\", \"Zipcode\", \"Date\", \"Price\", \"Bedrooms\", \"Title\", \"Location\", \"Link\"]\n",
    "\n",
    "for i in range(0, len(housing)):\n",
    "    try: housing.iloc[i,4] = housing.iloc[i,4].replace('$', '')\n",
    "    except: housing.iloc[i,4] = housing.iloc[i,4]\n",
    "    \n",
    "    try: housing.iloc[i,5] = housing.iloc[i,5].replace('\\n', '')\n",
    "    except: housing.iloc[i,5] = housing.iloc[i,5]\n",
    "    \n",
    "    try: housing.iloc[i,5] = housing.iloc[i,5].replace('-', '')\n",
    "    except: housing.iloc[i,5] = housing.iloc[i,5]\n",
    "        \n",
    "    try: housing.iloc[i,5] = housing.iloc[i,5].strip()\n",
    "    except: housing.iloc[i,5] = housing.iloc[i,5]\n",
    "    \n",
    "    try:\n",
    "        if housing.iloc[i,5].find('br') == True:\n",
    "            housing.iloc[i,5] = housing.iloc[i,5][0:3]\n",
    "        else:\n",
    "            housing.iloc[i,5] = None\n",
    "    except: None\n",
    "    \n",
    "    try: housing.iloc[i,7] = housing.iloc[i,7].replace('(', '')\n",
    "    except: housing.iloc[i,7] = housing.iloc[i,7]\n",
    "        \n",
    "    try: housing.iloc[i,7] = housing.iloc[i,7].replace(')', '')\n",
    "    except: housing.iloc[i,7] = housing.iloc[i,7]\n",
    "        \n",
    "# Remove Duplictates\n",
    "housing = housing.drop_duplicates(subset = ['Borough', 'Neighborhood', 'Zipcode', 'Price', 'Bedrooms', 'Location', 'Title'], keep = 'first')"
   ]
  },
  {
   "cell_type": "code",
   "execution_count": 11,
   "metadata": {},
   "outputs": [
    {
     "data": {
      "text/html": [
       "<div>\n",
       "<table border=\"1\" class=\"dataframe\">\n",
       "  <thead>\n",
       "    <tr style=\"text-align: right;\">\n",
       "      <th></th>\n",
       "      <th>Borough</th>\n",
       "      <th>Neighborhood</th>\n",
       "      <th>Zipcode</th>\n",
       "      <th>Date</th>\n",
       "      <th>Price</th>\n",
       "      <th>Bedrooms</th>\n",
       "      <th>Title</th>\n",
       "      <th>Location</th>\n",
       "      <th>Link</th>\n",
       "    </tr>\n",
       "  </thead>\n",
       "  <tbody>\n",
       "    <tr>\n",
       "      <th>37</th>\n",
       "      <td>Staten Island</td>\n",
       "      <td>Mid-Island</td>\n",
       "      <td>10314</td>\n",
       "      <td>2018-03-06 13:10</td>\n",
       "      <td>2000</td>\n",
       "      <td>2br</td>\n",
       "      <td>STUNNING...2BR...DUPLEX APARTMENT</td>\n",
       "      <td>Travis</td>\n",
       "      <td>https://newyork.craigslist.org/stn/fee/d/stunn...</td>\n",
       "    </tr>\n",
       "    <tr>\n",
       "      <th>38</th>\n",
       "      <td>Staten Island</td>\n",
       "      <td>Mid-Island</td>\n",
       "      <td>10314</td>\n",
       "      <td>2018-03-02 17:45</td>\n",
       "      <td>2050</td>\n",
       "      <td>3br</td>\n",
       "      <td>Beautiful 3 BR Condo with Garage for Rent near...</td>\n",
       "      <td>Staten Island</td>\n",
       "      <td>https://newyork.craigslist.org/stn/fee/d/beaut...</td>\n",
       "    </tr>\n",
       "    <tr>\n",
       "      <th>39</th>\n",
       "      <td>Staten Island</td>\n",
       "      <td>Mid-Island</td>\n",
       "      <td>10314</td>\n",
       "      <td>2018-02-23 15:11</td>\n",
       "      <td>2400</td>\n",
       "      <td>3br</td>\n",
       "      <td>Great 3Bed/2 bath HOUSE in Manor Heights Hurry!@</td>\n",
       "      <td>29 Sunset Ave</td>\n",
       "      <td>https://newyork.craigslist.org/stn/fee/d/great...</td>\n",
       "    </tr>\n",
       "    <tr>\n",
       "      <th>41</th>\n",
       "      <td>Staten Island</td>\n",
       "      <td>Mid-Island</td>\n",
       "      <td>10314</td>\n",
       "      <td>2018-02-16 09:29</td>\n",
       "      <td>1750</td>\n",
       "      <td>2br</td>\n",
       "      <td>MINT NEWLY RENOVATED 2BR W/YARD - W/D</td>\n",
       "      <td>HEARTLAND VILLAGE</td>\n",
       "      <td>https://newyork.craigslist.org/stn/fee/d/mint-...</td>\n",
       "    </tr>\n",
       "    <tr>\n",
       "      <th>42</th>\n",
       "      <td>Staten Island</td>\n",
       "      <td>Mid-Island</td>\n",
       "      <td>10314</td>\n",
       "      <td>2018-02-16 09:14</td>\n",
       "      <td>1850</td>\n",
       "      <td>2br</td>\n",
       "      <td>MINT NEWLY RENOVATED 2BR W/YARD, PARKING - W/D</td>\n",
       "      <td>HEARTLAND VILLAGE</td>\n",
       "      <td>https://newyork.craigslist.org/stn/fee/d/mint-...</td>\n",
       "    </tr>\n",
       "  </tbody>\n",
       "</table>\n",
       "</div>"
      ],
      "text/plain": [
       "          Borough Neighborhood  Zipcode              Date Price Bedrooms  \\\n",
       "37  Staten Island   Mid-Island    10314  2018-03-06 13:10  2000      2br   \n",
       "38  Staten Island   Mid-Island    10314  2018-03-02 17:45  2050      3br   \n",
       "39  Staten Island   Mid-Island    10314  2018-02-23 15:11  2400      3br   \n",
       "41  Staten Island   Mid-Island    10314  2018-02-16 09:29  1750      2br   \n",
       "42  Staten Island   Mid-Island    10314  2018-02-16 09:14  1850      2br   \n",
       "\n",
       "                                                Title            Location  \\\n",
       "37                  STUNNING...2BR...DUPLEX APARTMENT              Travis   \n",
       "38  Beautiful 3 BR Condo with Garage for Rent near...       Staten Island   \n",
       "39   Great 3Bed/2 bath HOUSE in Manor Heights Hurry!@       29 Sunset Ave   \n",
       "41              MINT NEWLY RENOVATED 2BR W/YARD - W/D   HEARTLAND VILLAGE   \n",
       "42     MINT NEWLY RENOVATED 2BR W/YARD, PARKING - W/D   HEARTLAND VILLAGE   \n",
       "\n",
       "                                                 Link  \n",
       "37  https://newyork.craigslist.org/stn/fee/d/stunn...  \n",
       "38  https://newyork.craigslist.org/stn/fee/d/beaut...  \n",
       "39  https://newyork.craigslist.org/stn/fee/d/great...  \n",
       "41  https://newyork.craigslist.org/stn/fee/d/mint-...  \n",
       "42  https://newyork.craigslist.org/stn/fee/d/mint-...  "
      ]
     },
     "execution_count": 11,
     "metadata": {},
     "output_type": "execute_result"
    }
   ],
   "source": [
    "housing.tail()"
   ]
  },
  {
   "cell_type": "markdown",
   "metadata": {},
   "source": [
    "### Export the Data"
   ]
  },
  {
   "cell_type": "code",
   "execution_count": 14,
   "metadata": {},
   "outputs": [],
   "source": [
    "#housing.to_csv(\"housing.csv\", index = False)\n",
    "#housing.to_excel(\"housing.csv\", index = False)\n",
    "\n",
    "writer = pd.ExcelWriter('housing.xlsx')\n",
    "housing.to_excel(writer,'Sheet1')\n",
    "writer.save()"
   ]
  },
  {
   "cell_type": "markdown",
   "metadata": {},
   "source": [
    "### To Do\n",
    "1. Clean the 'bedrooms' variable properly\n",
    "2. Figure out how to remove duplicates\n",
    "3. Add NJ zipcodes\n",
    "4. Add other important factors (crime, commute to JPM [Maps API])"
   ]
  },
  {
   "cell_type": "markdown",
   "metadata": {},
   "source": [
    "### Other Ideas"
   ]
  },
  {
   "cell_type": "markdown",
   "metadata": {},
   "source": [
    "Links:\n",
    "- http://www.areavibes.com/\n",
    "- http://www.city-data.com/zips/10024.html\n",
    "- https://www.melissadata.com/lookups/index.htm\n",
    "- http://www.relocationessentials.com/aff/www/tools/community/index.aspx\n",
    "\n",
    "Variables:\n",
    "- Estimated zip code population"
   ]
  }
 ],
 "metadata": {
  "anaconda-cloud": {},
  "kernelspec": {
   "display_name": "Python 3",
   "language": "python",
   "name": "python3"
  },
  "language_info": {
   "codemirror_mode": {
    "name": "ipython",
    "version": 3
   },
   "file_extension": ".py",
   "mimetype": "text/x-python",
   "name": "python",
   "nbconvert_exporter": "python",
   "pygments_lexer": "ipython3",
   "version": "3.6.3"
  }
 },
 "nbformat": 4,
 "nbformat_minor": 2
}
