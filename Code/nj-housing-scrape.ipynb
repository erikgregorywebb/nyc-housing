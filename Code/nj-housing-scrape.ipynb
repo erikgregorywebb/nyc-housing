{
 "cells": [
  {
   "cell_type": "code",
   "execution_count": 1,
   "metadata": {},
   "outputs": [],
   "source": [
    "# Import Libraries\n",
    "import requests\n",
    "from requests.adapters import HTTPAdapter\n",
    "from requests.packages.urllib3.util.retry import Retry\n",
    "from bs4 import BeautifulSoup\n",
    "import  pandas as pd\n",
    "import matplotlib.pyplot as plt\n",
    "import numpy as np\n",
    "import string\n",
    "import time\n",
    "import re\n",
    "import os\n",
    "from functools import reduce\n",
    "trim = re.compile(r'[^\\d.,]+')\n",
    "\n",
    "# http://www.zipcodestogo.com/New%20York/\n",
    "# http://www.zipcodestogo.com/New%20Jersey/"
   ]
  },
  {
   "cell_type": "markdown",
   "metadata": {},
   "source": [
    "### Read in NJ Zip Codes\n",
    "Source: http://www.zipcodestogo.com/New%20Jersey/"
   ]
  },
  {
   "cell_type": "code",
   "execution_count": 2,
   "metadata": {},
   "outputs": [
    {
     "data": {
      "text/html": [
       "<div>\n",
       "<style>\n",
       "    .dataframe thead tr:only-child th {\n",
       "        text-align: right;\n",
       "    }\n",
       "\n",
       "    .dataframe thead th {\n",
       "        text-align: left;\n",
       "    }\n",
       "\n",
       "    .dataframe tbody tr th {\n",
       "        vertical-align: top;\n",
       "    }\n",
       "</style>\n",
       "<table border=\"1\" class=\"dataframe\">\n",
       "  <thead>\n",
       "    <tr style=\"text-align: right;\">\n",
       "      <th></th>\n",
       "      <th>County</th>\n",
       "      <th>City</th>\n",
       "      <th>ZipCode</th>\n",
       "    </tr>\n",
       "  </thead>\n",
       "  <tbody>\n",
       "    <tr>\n",
       "      <th>166</th>\n",
       "      <td>Union</td>\n",
       "      <td>Linden</td>\n",
       "      <td>7036</td>\n",
       "    </tr>\n",
       "    <tr>\n",
       "      <th>167</th>\n",
       "      <td>Union</td>\n",
       "      <td>Rahway</td>\n",
       "      <td>7065</td>\n",
       "    </tr>\n",
       "    <tr>\n",
       "      <th>168</th>\n",
       "      <td>Union</td>\n",
       "      <td>Roselle</td>\n",
       "      <td>7203</td>\n",
       "    </tr>\n",
       "    <tr>\n",
       "      <th>169</th>\n",
       "      <td>Union</td>\n",
       "      <td>Roselle Park</td>\n",
       "      <td>7204</td>\n",
       "    </tr>\n",
       "    <tr>\n",
       "      <th>170</th>\n",
       "      <td>Union</td>\n",
       "      <td>Union</td>\n",
       "      <td>7083</td>\n",
       "    </tr>\n",
       "  </tbody>\n",
       "</table>\n",
       "</div>"
      ],
      "text/plain": [
       "    County          City  ZipCode\n",
       "166  Union        Linden     7036\n",
       "167  Union        Rahway     7065\n",
       "168  Union       Roselle     7203\n",
       "169  Union  Roselle Park     7204\n",
       "170  Union         Union     7083"
      ]
     },
     "execution_count": 2,
     "metadata": {},
     "output_type": "execute_result"
    }
   ],
   "source": [
    "zipcodes = pd.read_csv(\"/Users/erikgregorywebb/Documents/Python/nyc-housing/Data/nj-zip-codes.csv\")\n",
    "zipcodes.tail()"
   ]
  },
  {
   "cell_type": "markdown",
   "metadata": {},
   "source": [
    "### Generate Craigslist Links"
   ]
  },
  {
   "cell_type": "code",
   "execution_count": 3,
   "metadata": {},
   "outputs": [],
   "source": [
    "base_links = []\n",
    "for i in range(0, len(zipcodes)):\n",
    "    link = \"https://newjersey.craigslist.org/search/apa?postal={}\".format(zipcodes.iloc[i,2])\n",
    "    base_links.append(link)"
   ]
  },
  {
   "cell_type": "code",
   "execution_count": 4,
   "metadata": {},
   "outputs": [
    {
     "data": {
      "text/plain": [
       "['https://newjersey.craigslist.org/search/apa?postal=7620',\n",
       " 'https://newjersey.craigslist.org/search/apa?postal=7621',\n",
       " 'https://newjersey.craigslist.org/search/apa?postal=7603',\n",
       " 'https://newjersey.craigslist.org/search/apa?postal=7072',\n",
       " 'https://newjersey.craigslist.org/search/apa?postal=7010']"
      ]
     },
     "execution_count": 4,
     "metadata": {},
     "output_type": "execute_result"
    }
   ],
   "source": [
    "base_links[0:5]"
   ]
  },
  {
   "cell_type": "code",
   "execution_count": 5,
   "metadata": {},
   "outputs": [
    {
     "data": {
      "text/plain": [
       "171"
      ]
     },
     "execution_count": 5,
     "metadata": {},
     "output_type": "execute_result"
    }
   ],
   "source": [
    "len(base_links)"
   ]
  },
  {
   "cell_type": "markdown",
   "metadata": {},
   "source": [
    "### Generate Craigslist Links [2nd Method]"
   ]
  },
  {
   "cell_type": "code",
   "execution_count": 6,
   "metadata": {},
   "outputs": [],
   "source": [
    "links = []\n",
    "for i in range(0, 3000, 120):\n",
    "    link = \"https://newjersey.craigslist.org/search/apa?s={}\".format(i)\n",
    "    links.append(link)"
   ]
  },
  {
   "cell_type": "code",
   "execution_count": 7,
   "metadata": {},
   "outputs": [
    {
     "data": {
      "text/plain": [
       "['https://newjersey.craigslist.org/search/apa?s=0',\n",
       " 'https://newjersey.craigslist.org/search/apa?s=120',\n",
       " 'https://newjersey.craigslist.org/search/apa?s=240',\n",
       " 'https://newjersey.craigslist.org/search/apa?s=360',\n",
       " 'https://newjersey.craigslist.org/search/apa?s=480']"
      ]
     },
     "execution_count": 7,
     "metadata": {},
     "output_type": "execute_result"
    }
   ],
   "source": [
    "links[0:5]"
   ]
  },
  {
   "cell_type": "code",
   "execution_count": 8,
   "metadata": {},
   "outputs": [],
   "source": [
    "base_links = links"
   ]
  },
  {
   "cell_type": "markdown",
   "metadata": {},
   "source": [
    "### Collect Listings Data"
   ]
  },
  {
   "cell_type": "code",
   "execution_count": 9,
   "metadata": {},
   "outputs": [
    {
     "name": "stdout",
     "output_type": "stream",
     "text": [
      "--- Expected Run Time: 25econds ---\n",
      "--- 66.30304193496704 seconds ---\n",
      "--- 41.303170919418335 seconds NOT sleeping ---\n"
     ]
    }
   ],
   "source": [
    "start_time = time.time()\n",
    "sleep_time = 1\n",
    "\n",
    "housing = pd.DataFrame()\n",
    "length = len(base_links)\n",
    "#length = 1\n",
    "\n",
    "print(\"--- Expected Run Time: % seconds ---\" % (length*sleep_time))\n",
    "\n",
    "for i in range(0, length):\n",
    "    \n",
    "    time.sleep(sleep_time)\n",
    "    s = requests.Session()\n",
    "    retries = Retry(total=3, backoff_factor=0.5)\n",
    "    s.mount('http://', HTTPAdapter(max_retries=retries))\n",
    "    r = s.get(base_links[i])\n",
    "    page = BeautifulSoup(r.content, \"lxml\")\n",
    "    \n",
    "    dates = []\n",
    "    prices = []\n",
    "    bedrooms = []\n",
    "    titles = []\n",
    "    locations = []\n",
    "    links = []\n",
    "\n",
    "    rows = page.findAll('li', {'class': 'result-row'})\n",
    "\n",
    "    for row in rows:\n",
    "        # Date\n",
    "        try: date = row.find('time', {'class': 'result-date'})['datetime']\n",
    "        except: date = None\n",
    "        \n",
    "        # Price\n",
    "        try: price = row.find('span', {'class': 'result-price'}).text\n",
    "        except: price = None\n",
    "            \n",
    "        # Bedroom\n",
    "        try: bedroom = row.find('span', {'class': 'housing'}).text\n",
    "        except: bedroom = None\n",
    "        \n",
    "        # Title\n",
    "        try: title = row.find('a', {'class': 'result-title hdrlnk'}).text\n",
    "        except: title = None\n",
    "        \n",
    "        # Location\n",
    "        try: location = row.find('span', {'class': 'result-hood'}).text\n",
    "        except: location = None\n",
    "        \n",
    "        # Link\n",
    "        try: link = row.find('a', href = True)['href']\n",
    "        except: link = None\n",
    "        \n",
    "        dates.append(date)\n",
    "        prices.append(price)\n",
    "        bedrooms.append(bedroom)\n",
    "        titles.append(title)\n",
    "        locations.append(location)\n",
    "        links.append(link)\n",
    "        \n",
    "    county = [zipcodes.iloc[i,0]] * len(dates)\n",
    "    city = [zipcodes.iloc[i,1]] * len(dates)\n",
    "    zipcode = [zipcodes.iloc[i,2]] * len(dates)\n",
    "        \n",
    "    temp = pd.DataFrame(list(zip(county, city, zipcode, dates, prices, bedrooms, titles, locations, links)))\n",
    "    housing = pd.concat([housing, temp])\n",
    "\n",
    "print(\"--- %s seconds ---\" % (time.time() - start_time))\n",
    "print(\"--- %s seconds NOT sleeping ---\" % (time.time() - start_time - (sleep_time * length)))"
   ]
  },
  {
   "cell_type": "code",
   "execution_count": 10,
   "metadata": {},
   "outputs": [],
   "source": [
    "# Clean the data\n",
    "housing.columns = [\"County\", \"City\", \"Zipcode\", \"Date\", \"Price\", \"Bedrooms\", \"Title\", \"Location\", \"Link\"]\n",
    "\n",
    "for i in range(0, len(housing)):\n",
    "    try: housing.iloc[i,4] = housing.iloc[i,4].replace('$', '')\n",
    "    except: housing.iloc[i,4] = housing.iloc[i,4]\n",
    "    \n",
    "    try: housing.iloc[i,5] = housing.iloc[i,5].replace('\\n', '')\n",
    "    except: housing.iloc[i,5] = housing.iloc[i,5]\n",
    "    \n",
    "    try: housing.iloc[i,5] = housing.iloc[i,5].replace('-', '')\n",
    "    except: housing.iloc[i,5] = housing.iloc[i,5]\n",
    "        \n",
    "    try: housing.iloc[i,5] = housing.iloc[i,5].strip()\n",
    "    except: housing.iloc[i,5] = housing.iloc[i,5]\n",
    "    \n",
    "    try:\n",
    "        if housing.iloc[i,5].find('br') == True:\n",
    "            housing.iloc[i,5] = housing.iloc[i,5][0:3]\n",
    "        else:\n",
    "            housing.iloc[i,5] = None\n",
    "    except: None\n",
    "    \n",
    "    try: housing.iloc[i,7] = housing.iloc[i,7].replace('(', '')\n",
    "    except: housing.iloc[i,7] = housing.iloc[i,7]\n",
    "        \n",
    "    try: housing.iloc[i,7] = housing.iloc[i,7].replace(')', '')\n",
    "    except: housing.iloc[i,7] = housing.iloc[i,7]\n",
    "        \n",
    "# Remove Duplictates\n",
    "housing = housing.drop_duplicates(subset = ['County', 'City', 'Zipcode', 'Price', 'Bedrooms', 'Location', 'Title'], keep = 'first')"
   ]
  },
  {
   "cell_type": "code",
   "execution_count": 11,
   "metadata": {},
   "outputs": [
    {
     "data": {
      "text/html": [
       "<div>\n",
       "<style>\n",
       "    .dataframe thead tr:only-child th {\n",
       "        text-align: right;\n",
       "    }\n",
       "\n",
       "    .dataframe thead th {\n",
       "        text-align: left;\n",
       "    }\n",
       "\n",
       "    .dataframe tbody tr th {\n",
       "        vertical-align: top;\n",
       "    }\n",
       "</style>\n",
       "<table border=\"1\" class=\"dataframe\">\n",
       "  <thead>\n",
       "    <tr style=\"text-align: right;\">\n",
       "      <th></th>\n",
       "      <th>County</th>\n",
       "      <th>City</th>\n",
       "      <th>Zipcode</th>\n",
       "      <th>Date</th>\n",
       "      <th>Price</th>\n",
       "      <th>Bedrooms</th>\n",
       "      <th>Title</th>\n",
       "      <th>Location</th>\n",
       "      <th>Link</th>\n",
       "    </tr>\n",
       "  </thead>\n",
       "  <tbody>\n",
       "    <tr>\n",
       "      <th>115</th>\n",
       "      <td>Bergen</td>\n",
       "      <td>Hasbrouck Heights</td>\n",
       "      <td>7604</td>\n",
       "      <td>2018-04-13 22:02</td>\n",
       "      <td>1845</td>\n",
       "      <td>1br</td>\n",
       "      <td>~No Broker Fee! Washer/Dryer in-unit~</td>\n",
       "      <td>Bloomfield</td>\n",
       "      <td>https://newjersey.craigslist.org/apa/d/no-brok...</td>\n",
       "    </tr>\n",
       "    <tr>\n",
       "      <th>116</th>\n",
       "      <td>Bergen</td>\n",
       "      <td>Hasbrouck Heights</td>\n",
       "      <td>7604</td>\n",
       "      <td>2018-04-13 22:02</td>\n",
       "      <td>1865</td>\n",
       "      <td>1br</td>\n",
       "      <td>~No Broker Fee! Steps to Train Station~</td>\n",
       "      <td>Bloomfield</td>\n",
       "      <td>https://newjersey.craigslist.org/apa/d/no-brok...</td>\n",
       "    </tr>\n",
       "    <tr>\n",
       "      <th>117</th>\n",
       "      <td>Bergen</td>\n",
       "      <td>Hasbrouck Heights</td>\n",
       "      <td>7604</td>\n",
       "      <td>2018-04-13 22:02</td>\n",
       "      <td>1865</td>\n",
       "      <td>1br</td>\n",
       "      <td>No Broker Fee! Bloomfield Luxury!</td>\n",
       "      <td>Bloomfield</td>\n",
       "      <td>https://newjersey.craigslist.org/apa/d/no-brok...</td>\n",
       "    </tr>\n",
       "    <tr>\n",
       "      <th>118</th>\n",
       "      <td>Bergen</td>\n",
       "      <td>Hasbrouck Heights</td>\n",
       "      <td>7604</td>\n",
       "      <td>2018-04-13 22:01</td>\n",
       "      <td>1860</td>\n",
       "      <td>1br</td>\n",
       "      <td>No Broker Fee! Stone Counters!</td>\n",
       "      <td>East Rutherford</td>\n",
       "      <td>https://newjersey.craigslist.org/apa/d/no-brok...</td>\n",
       "    </tr>\n",
       "    <tr>\n",
       "      <th>119</th>\n",
       "      <td>Bergen</td>\n",
       "      <td>Hasbrouck Heights</td>\n",
       "      <td>7604</td>\n",
       "      <td>2018-04-13 22:01</td>\n",
       "      <td>2355</td>\n",
       "      <td>2br</td>\n",
       "      <td>No Broker Fee! Minutes to NYC!</td>\n",
       "      <td>East Rutherford</td>\n",
       "      <td>https://newjersey.craigslist.org/apa/d/no-brok...</td>\n",
       "    </tr>\n",
       "  </tbody>\n",
       "</table>\n",
       "</div>"
      ],
      "text/plain": [
       "     County               City  Zipcode              Date Price Bedrooms  \\\n",
       "115  Bergen  Hasbrouck Heights     7604  2018-04-13 22:02  1845      1br   \n",
       "116  Bergen  Hasbrouck Heights     7604  2018-04-13 22:02  1865      1br   \n",
       "117  Bergen  Hasbrouck Heights     7604  2018-04-13 22:02  1865      1br   \n",
       "118  Bergen  Hasbrouck Heights     7604  2018-04-13 22:01  1860      1br   \n",
       "119  Bergen  Hasbrouck Heights     7604  2018-04-13 22:01  2355      2br   \n",
       "\n",
       "                                       Title          Location  \\\n",
       "115    ~No Broker Fee! Washer/Dryer in-unit~        Bloomfield   \n",
       "116  ~No Broker Fee! Steps to Train Station~        Bloomfield   \n",
       "117        No Broker Fee! Bloomfield Luxury!        Bloomfield   \n",
       "118           No Broker Fee! Stone Counters!   East Rutherford   \n",
       "119           No Broker Fee! Minutes to NYC!   East Rutherford   \n",
       "\n",
       "                                                  Link  \n",
       "115  https://newjersey.craigslist.org/apa/d/no-brok...  \n",
       "116  https://newjersey.craigslist.org/apa/d/no-brok...  \n",
       "117  https://newjersey.craigslist.org/apa/d/no-brok...  \n",
       "118  https://newjersey.craigslist.org/apa/d/no-brok...  \n",
       "119  https://newjersey.craigslist.org/apa/d/no-brok...  "
      ]
     },
     "execution_count": 11,
     "metadata": {},
     "output_type": "execute_result"
    }
   ],
   "source": [
    "housing.tail()"
   ]
  },
  {
   "cell_type": "markdown",
   "metadata": {},
   "source": [
    "### Export the Data"
   ]
  },
  {
   "cell_type": "code",
   "execution_count": 12,
   "metadata": {},
   "outputs": [],
   "source": [
    "os.chdir(\"/Users/erikgregorywebb/Documents/Python/nyc-housing/Data\")\n",
    "housing.to_csv(\"nj-housing-2.csv\")"
   ]
  },
  {
   "cell_type": "markdown",
   "metadata": {},
   "source": [
    "### Other Ideas"
   ]
  },
  {
   "cell_type": "markdown",
   "metadata": {},
   "source": [
    "Links:\n",
    "- http://www.areavibes.com/\n",
    "- http://www.city-data.com/zips/10024.html\n",
    "- https://www.melissadata.com/lookups/index.htm\n",
    "- http://www.relocationessentials.com/aff/www/tools/community/index.aspx\n",
    "\n",
    "Variables:\n",
    "- Estimated zip code population"
   ]
  }
 ],
 "metadata": {
  "anaconda-cloud": {},
  "kernelspec": {
   "display_name": "Python 3",
   "language": "python",
   "name": "python3"
  },
  "language_info": {
   "codemirror_mode": {
    "name": "ipython",
    "version": 3
   },
   "file_extension": ".py",
   "mimetype": "text/x-python",
   "name": "python",
   "nbconvert_exporter": "python",
   "pygments_lexer": "ipython3",
   "version": "3.6.3"
  }
 },
 "nbformat": 4,
 "nbformat_minor": 2
}
