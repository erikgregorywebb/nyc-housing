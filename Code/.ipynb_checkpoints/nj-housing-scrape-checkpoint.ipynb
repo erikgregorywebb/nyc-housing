{
 "cells": [
  {
   "cell_type": "code",
   "execution_count": 16,
   "metadata": {},
   "outputs": [],
   "source": [
    "# Import Libraries\n",
    "import requests\n",
    "from requests.adapters import HTTPAdapter\n",
    "from requests.packages.urllib3.util.retry import Retry\n",
    "from bs4 import BeautifulSoup\n",
    "import  pandas as pd\n",
    "import matplotlib.pyplot as plt\n",
    "import numpy as np\n",
    "import string\n",
    "import time\n",
    "import re\n",
    "import os\n",
    "from functools import reduce\n",
    "trim = re.compile(r'[^\\d.,]+')\n",
    "\n",
    "# http://www.zipcodestogo.com/New%20York/\n",
    "# http://www.zipcodestogo.com/New%20Jersey/"
   ]
  },
  {
   "cell_type": "markdown",
   "metadata": {},
   "source": [
    "### Read in NJ Zip Codes\n",
    "Source: http://www.zipcodestogo.com/New%20Jersey/"
   ]
  },
  {
   "cell_type": "code",
   "execution_count": 17,
   "metadata": {},
   "outputs": [
    {
     "data": {
      "text/html": [
       "<div>\n",
       "<style>\n",
       "    .dataframe thead tr:only-child th {\n",
       "        text-align: right;\n",
       "    }\n",
       "\n",
       "    .dataframe thead th {\n",
       "        text-align: left;\n",
       "    }\n",
       "\n",
       "    .dataframe tbody tr th {\n",
       "        vertical-align: top;\n",
       "    }\n",
       "</style>\n",
       "<table border=\"1\" class=\"dataframe\">\n",
       "  <thead>\n",
       "    <tr style=\"text-align: right;\">\n",
       "      <th></th>\n",
       "      <th>County</th>\n",
       "      <th>City</th>\n",
       "      <th>ZipCode</th>\n",
       "    </tr>\n",
       "  </thead>\n",
       "  <tbody>\n",
       "    <tr>\n",
       "      <th>166</th>\n",
       "      <td>Union</td>\n",
       "      <td>Linden</td>\n",
       "      <td>7036</td>\n",
       "    </tr>\n",
       "    <tr>\n",
       "      <th>167</th>\n",
       "      <td>Union</td>\n",
       "      <td>Rahway</td>\n",
       "      <td>7065</td>\n",
       "    </tr>\n",
       "    <tr>\n",
       "      <th>168</th>\n",
       "      <td>Union</td>\n",
       "      <td>Roselle</td>\n",
       "      <td>7203</td>\n",
       "    </tr>\n",
       "    <tr>\n",
       "      <th>169</th>\n",
       "      <td>Union</td>\n",
       "      <td>Roselle Park</td>\n",
       "      <td>7204</td>\n",
       "    </tr>\n",
       "    <tr>\n",
       "      <th>170</th>\n",
       "      <td>Union</td>\n",
       "      <td>Union</td>\n",
       "      <td>7083</td>\n",
       "    </tr>\n",
       "  </tbody>\n",
       "</table>\n",
       "</div>"
      ],
      "text/plain": [
       "    County          City  ZipCode\n",
       "166  Union        Linden     7036\n",
       "167  Union        Rahway     7065\n",
       "168  Union       Roselle     7203\n",
       "169  Union  Roselle Park     7204\n",
       "170  Union         Union     7083"
      ]
     },
     "execution_count": 17,
     "metadata": {},
     "output_type": "execute_result"
    }
   ],
   "source": [
    "zipcodes = pd.read_csv(\"/Users/erikgregorywebb/Documents/Python/nyc-housing/Data/nj-zip-codes.csv\")\n",
    "zipcodes.tail()"
   ]
  },
  {
   "cell_type": "markdown",
   "metadata": {},
   "source": [
    "### Generate Craigslist Links"
   ]
  },
  {
   "cell_type": "code",
   "execution_count": 18,
   "metadata": {},
   "outputs": [],
   "source": [
    "base_links = []\n",
    "for i in range(0, len(zipcodes)):\n",
    "    link = \"https://newjersey.craigslist.org/search/apa?postal={}\".format(zipcodes.iloc[i,2])\n",
    "    base_links.append(link)"
   ]
  },
  {
   "cell_type": "code",
   "execution_count": 19,
   "metadata": {},
   "outputs": [
    {
     "data": {
      "text/plain": [
       "['https://newjersey.craigslist.org/search/apa?postal=7620',\n",
       " 'https://newjersey.craigslist.org/search/apa?postal=7621',\n",
       " 'https://newjersey.craigslist.org/search/apa?postal=7603',\n",
       " 'https://newjersey.craigslist.org/search/apa?postal=7072',\n",
       " 'https://newjersey.craigslist.org/search/apa?postal=7010']"
      ]
     },
     "execution_count": 19,
     "metadata": {},
     "output_type": "execute_result"
    }
   ],
   "source": [
    "base_links[0:5]"
   ]
  },
  {
   "cell_type": "code",
   "execution_count": 5,
   "metadata": {},
   "outputs": [
    {
     "data": {
      "text/plain": [
       "171"
      ]
     },
     "execution_count": 5,
     "metadata": {},
     "output_type": "execute_result"
    }
   ],
   "source": [
    "len(base_links)"
   ]
  },
  {
   "cell_type": "markdown",
   "metadata": {},
   "source": [
    "### Generate Craigslist Links [2nd Method]"
   ]
  },
  {
   "cell_type": "code",
   "execution_count": 27,
   "metadata": {},
   "outputs": [],
   "source": [
    "links = []\n",
    "for i in range(0, 3000, 120):\n",
    "    link = \"https://newjersey.craigslist.org/search/apa?s={}\".format(i)\n",
    "    links.append(link)"
   ]
  },
  {
   "cell_type": "code",
   "execution_count": 29,
   "metadata": {},
   "outputs": [
    {
     "data": {
      "text/plain": [
       "['https://newjersey.craigslist.org/search/apa?s=0',\n",
       " 'https://newjersey.craigslist.org/search/apa?s=120',\n",
       " 'https://newjersey.craigslist.org/search/apa?s=240',\n",
       " 'https://newjersey.craigslist.org/search/apa?s=360',\n",
       " 'https://newjersey.craigslist.org/search/apa?s=480']"
      ]
     },
     "execution_count": 29,
     "metadata": {},
     "output_type": "execute_result"
    }
   ],
   "source": [
    "links[0:5]"
   ]
  },
  {
   "cell_type": "code",
   "execution_count": null,
   "metadata": {},
   "outputs": [],
   "source": [
    "base_links = links"
   ]
  },
  {
   "cell_type": "markdown",
   "metadata": {},
   "source": [
    "### Collect Listings Data"
   ]
  },
  {
   "cell_type": "code",
   "execution_count": 6,
   "metadata": {},
   "outputs": [
    {
     "name": "stdout",
     "output_type": "stream",
     "text": [
      "--- Expected Run Time: 171econds ---\n",
      "--- 368.92958903312683 seconds ---\n",
      "--- 197.92984080314636 seconds NOT sleeping ---\n"
     ]
    }
   ],
   "source": [
    "start_time = time.time()\n",
    "sleep_time = 1\n",
    "\n",
    "housing = pd.DataFrame()\n",
    "length = len(base_links)\n",
    "#length = 1\n",
    "\n",
    "print(\"--- Expected Run Time: % seconds ---\" % (length*sleep_time))\n",
    "\n",
    "for i in range(0, length):\n",
    "    \n",
    "    time.sleep(sleep_time)\n",
    "    s = requests.Session()\n",
    "    retries = Retry(total=3, backoff_factor=0.5)\n",
    "    s.mount('http://', HTTPAdapter(max_retries=retries))\n",
    "    r = s.get(base_links[i])\n",
    "    page = BeautifulSoup(r.content, \"lxml\")\n",
    "    \n",
    "    dates = []\n",
    "    prices = []\n",
    "    bedrooms = []\n",
    "    titles = []\n",
    "    locations = []\n",
    "    links = []\n",
    "\n",
    "    rows = page.findAll('li', {'class': 'result-row'})\n",
    "\n",
    "    for row in rows:\n",
    "        # Date\n",
    "        try: date = row.find('time', {'class': 'result-date'})['datetime']\n",
    "        except: date = None\n",
    "        \n",
    "        # Price\n",
    "        try: price = row.find('span', {'class': 'result-price'}).text\n",
    "        except: price = None\n",
    "            \n",
    "        # Bedroom\n",
    "        try: bedroom = row.find('span', {'class': 'housing'}).text\n",
    "        except: bedroom = None\n",
    "        \n",
    "        # Title\n",
    "        try: title = row.find('a', {'class': 'result-title hdrlnk'}).text\n",
    "        except: title = None\n",
    "        \n",
    "        # Location\n",
    "        try: location = row.find('span', {'class': 'result-hood'}).text\n",
    "        except: location = None\n",
    "        \n",
    "        # Link\n",
    "        try: link = row.find('a', href = True)['href']\n",
    "        except: link = None\n",
    "        \n",
    "        dates.append(date)\n",
    "        prices.append(price)\n",
    "        bedrooms.append(bedroom)\n",
    "        titles.append(title)\n",
    "        locations.append(location)\n",
    "        links.append(link)\n",
    "        \n",
    "    county = [zipcodes.iloc[i,0]] * len(dates)\n",
    "    city = [zipcodes.iloc[i,1]] * len(dates)\n",
    "    zipcode = [zipcodes.iloc[i,2]] * len(dates)\n",
    "        \n",
    "    temp = pd.DataFrame(list(zip(county, city, zipcode, dates, prices, bedrooms, titles, locations, links)))\n",
    "    housing = pd.concat([housing, temp])\n",
    "\n",
    "print(\"--- %s seconds ---\" % (time.time() - start_time))\n",
    "print(\"--- %s seconds NOT sleeping ---\" % (time.time() - start_time - (sleep_time * length)))"
   ]
  },
  {
   "cell_type": "code",
   "execution_count": 7,
   "metadata": {},
   "outputs": [],
   "source": [
    "# Clean the data\n",
    "housing.columns = [\"County\", \"City\", \"Zipcode\", \"Date\", \"Price\", \"Bedrooms\", \"Title\", \"Location\", \"Link\"]\n",
    "\n",
    "for i in range(0, len(housing)):\n",
    "    try: housing.iloc[i,4] = housing.iloc[i,4].replace('$', '')\n",
    "    except: housing.iloc[i,4] = housing.iloc[i,4]\n",
    "    \n",
    "    try: housing.iloc[i,5] = housing.iloc[i,5].replace('\\n', '')\n",
    "    except: housing.iloc[i,5] = housing.iloc[i,5]\n",
    "    \n",
    "    try: housing.iloc[i,5] = housing.iloc[i,5].replace('-', '')\n",
    "    except: housing.iloc[i,5] = housing.iloc[i,5]\n",
    "        \n",
    "    try: housing.iloc[i,5] = housing.iloc[i,5].strip()\n",
    "    except: housing.iloc[i,5] = housing.iloc[i,5]\n",
    "    \n",
    "    try:\n",
    "        if housing.iloc[i,5].find('br') == True:\n",
    "            housing.iloc[i,5] = housing.iloc[i,5][0:3]\n",
    "        else:\n",
    "            housing.iloc[i,5] = None\n",
    "    except: None\n",
    "    \n",
    "    try: housing.iloc[i,7] = housing.iloc[i,7].replace('(', '')\n",
    "    except: housing.iloc[i,7] = housing.iloc[i,7]\n",
    "        \n",
    "    try: housing.iloc[i,7] = housing.iloc[i,7].replace(')', '')\n",
    "    except: housing.iloc[i,7] = housing.iloc[i,7]\n",
    "        \n",
    "# Remove Duplictates\n",
    "housing = housing.drop_duplicates(subset = ['County', 'City', 'Zipcode', 'Price', 'Bedrooms', 'Location', 'Title'], keep = 'first')"
   ]
  },
  {
   "cell_type": "code",
   "execution_count": 8,
   "metadata": {},
   "outputs": [
    {
     "data": {
      "text/html": [
       "<div>\n",
       "<style>\n",
       "    .dataframe thead tr:only-child th {\n",
       "        text-align: right;\n",
       "    }\n",
       "\n",
       "    .dataframe thead th {\n",
       "        text-align: left;\n",
       "    }\n",
       "\n",
       "    .dataframe tbody tr th {\n",
       "        vertical-align: top;\n",
       "    }\n",
       "</style>\n",
       "<table border=\"1\" class=\"dataframe\">\n",
       "  <thead>\n",
       "    <tr style=\"text-align: right;\">\n",
       "      <th></th>\n",
       "      <th>County</th>\n",
       "      <th>City</th>\n",
       "      <th>Zipcode</th>\n",
       "      <th>Date</th>\n",
       "      <th>Price</th>\n",
       "      <th>Bedrooms</th>\n",
       "      <th>Title</th>\n",
       "      <th>Location</th>\n",
       "      <th>Link</th>\n",
       "    </tr>\n",
       "  </thead>\n",
       "  <tbody>\n",
       "    <tr>\n",
       "      <th>115</th>\n",
       "      <td>Union</td>\n",
       "      <td>Union</td>\n",
       "      <td>7083</td>\n",
       "      <td>2018-04-16 08:54</td>\n",
       "      <td>2670</td>\n",
       "      <td>1br</td>\n",
       "      <td>1 bedroom - W/ Loft, Walk In Closets, Garage p...</td>\n",
       "      <td>None</td>\n",
       "      <td>https://newjersey.craigslist.org/apa/d/1-bedro...</td>\n",
       "    </tr>\n",
       "    <tr>\n",
       "      <th>116</th>\n",
       "      <td>Union</td>\n",
       "      <td>Union</td>\n",
       "      <td>7083</td>\n",
       "      <td>2018-04-16 08:53</td>\n",
       "      <td>2216</td>\n",
       "      <td>1br</td>\n",
       "      <td>Renovated 1BR/1BA Available! Beautiful Communi...</td>\n",
       "      <td>Englewood</td>\n",
       "      <td>https://newjersey.craigslist.org/apa/d/renovat...</td>\n",
       "    </tr>\n",
       "    <tr>\n",
       "      <th>117</th>\n",
       "      <td>Union</td>\n",
       "      <td>Union</td>\n",
       "      <td>7083</td>\n",
       "      <td>2018-04-16 08:52</td>\n",
       "      <td>1735</td>\n",
       "      <td>2br</td>\n",
       "      <td>Alpine Model Rent Special,  1 Free Month &amp; Wai...</td>\n",
       "      <td>Lebanon</td>\n",
       "      <td>https://newjersey.craigslist.org/apa/d/alpine-...</td>\n",
       "    </tr>\n",
       "    <tr>\n",
       "      <th>118</th>\n",
       "      <td>Union</td>\n",
       "      <td>Union</td>\n",
       "      <td>7083</td>\n",
       "      <td>2018-04-16 08:50</td>\n",
       "      <td>1400</td>\n",
       "      <td>2br</td>\n",
       "      <td>Condo   2 / bedroom or 1 bedroom apt</td>\n",
       "      <td>North bergen</td>\n",
       "      <td>https://newjersey.craigslist.org/apa/d/condo-2...</td>\n",
       "    </tr>\n",
       "    <tr>\n",
       "      <th>119</th>\n",
       "      <td>Union</td>\n",
       "      <td>Union</td>\n",
       "      <td>7083</td>\n",
       "      <td>2018-04-16 08:49</td>\n",
       "      <td>900</td>\n",
       "      <td>3br</td>\n",
       "      <td>^Lovely Spacious^3Bed 2Bath..House^</td>\n",
       "      <td>None</td>\n",
       "      <td>https://newjersey.craigslist.org/apa/d/lovely-...</td>\n",
       "    </tr>\n",
       "  </tbody>\n",
       "</table>\n",
       "</div>"
      ],
      "text/plain": [
       "    County   City  Zipcode              Date Price Bedrooms  \\\n",
       "115  Union  Union     7083  2018-04-16 08:54  2670      1br   \n",
       "116  Union  Union     7083  2018-04-16 08:53  2216      1br   \n",
       "117  Union  Union     7083  2018-04-16 08:52  1735      2br   \n",
       "118  Union  Union     7083  2018-04-16 08:50  1400      2br   \n",
       "119  Union  Union     7083  2018-04-16 08:49   900      3br   \n",
       "\n",
       "                                                 Title       Location  \\\n",
       "115  1 bedroom - W/ Loft, Walk In Closets, Garage p...           None   \n",
       "116  Renovated 1BR/1BA Available! Beautiful Communi...      Englewood   \n",
       "117  Alpine Model Rent Special,  1 Free Month & Wai...        Lebanon   \n",
       "118               Condo   2 / bedroom or 1 bedroom apt   North bergen   \n",
       "119                ^Lovely Spacious^3Bed 2Bath..House^           None   \n",
       "\n",
       "                                                  Link  \n",
       "115  https://newjersey.craigslist.org/apa/d/1-bedro...  \n",
       "116  https://newjersey.craigslist.org/apa/d/renovat...  \n",
       "117  https://newjersey.craigslist.org/apa/d/alpine-...  \n",
       "118  https://newjersey.craigslist.org/apa/d/condo-2...  \n",
       "119  https://newjersey.craigslist.org/apa/d/lovely-...  "
      ]
     },
     "execution_count": 8,
     "metadata": {},
     "output_type": "execute_result"
    }
   ],
   "source": [
    "housing.tail()"
   ]
  },
  {
   "cell_type": "markdown",
   "metadata": {},
   "source": [
    "### Export the Data"
   ]
  },
  {
   "cell_type": "code",
   "execution_count": 9,
   "metadata": {},
   "outputs": [],
   "source": [
    "os.chdir(\"/Users/erikgregorywebb/Documents/Python/nyc-housing/Data\")\n",
    "housing.to_csv(\"nj-housing-2.csv\")"
   ]
  },
  {
   "cell_type": "markdown",
   "metadata": {},
   "source": [
    "### Other Ideas"
   ]
  },
  {
   "cell_type": "markdown",
   "metadata": {},
   "source": [
    "Links:\n",
    "- http://www.areavibes.com/\n",
    "- http://www.city-data.com/zips/10024.html\n",
    "- https://www.melissadata.com/lookups/index.htm\n",
    "- http://www.relocationessentials.com/aff/www/tools/community/index.aspx\n",
    "\n",
    "Variables:\n",
    "- Estimated zip code population"
   ]
  }
 ],
 "metadata": {
  "anaconda-cloud": {},
  "kernelspec": {
   "display_name": "Python 3",
   "language": "python",
   "name": "python3"
  },
  "language_info": {
   "codemirror_mode": {
    "name": "ipython",
    "version": 3
   },
   "file_extension": ".py",
   "mimetype": "text/x-python",
   "name": "python",
   "nbconvert_exporter": "python",
   "pygments_lexer": "ipython3",
   "version": "3.6.3"
  }
 },
 "nbformat": 4,
 "nbformat_minor": 2
}
